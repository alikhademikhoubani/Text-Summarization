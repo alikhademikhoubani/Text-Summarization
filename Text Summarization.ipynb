{
 "cells": [
  {
   "cell_type": "code",
   "execution_count": 34,
   "id": "9bf1ad1d",
   "metadata": {},
   "outputs": [],
   "source": [
    "import spacy\n",
    "from collections import Counter\n",
    "import pandas as pd\n",
    "import numpy as np\n",
    "from heapq import nlargest\n",
    "from transformers import pipeline"
   ]
  },
  {
   "cell_type": "markdown",
   "id": "25f39c81",
   "metadata": {},
   "source": [
    "# Extractive Summarization"
   ]
  },
  {
   "cell_type": "code",
   "execution_count": 2,
   "id": "d95e453c",
   "metadata": {},
   "outputs": [],
   "source": [
    "text = '''Small data are often used in scientific and engineering research due to the presence of various constraints, such as time, cost, ethics, privacy, security, and technical limitations in data acquisition. However, big data have been the focus for the past decade, small data and their challenges have received little attention, even though they are technically more severe in machine learning (ML) and deep learning (DL) studies. Overall, the small data challenge is often compounded by issues, such as data diversity, imputation, noise, imbalance, and high-dimensionality. Fortunately, the current big data era is characterized by technological breakthroughs in ML, DL, and artificial intelligence (AI), which enable data-driven scientific discovery, and many advanced ML and DL technologies developed for big data have inadvertently provided solutions for small data problems. As a result, significant progress has been made in ML and DL for small data challenges in the past decade. In this review, we summarize and analyze several emerging potential solutions to small data challenges in molecular science, including chemical and biological sciences. We review both basic machine learning algorithms, such as linear regression, logistic regression (LR), k-nearest neighbor (KNN), support vector machine (SVM), kernel learning (KL), random forest (RF), and gradient boosting trees (GBT), and more advanced techniques, including artificial neural network (ANN), convolutional neural network (CNN), U-Net, graph neural network (GNN), Generative Adversarial Network (GAN), long short-term memory (LSTM), autoencoder, transformer, transfer learning, active learning, graph-based semi-supervised learning, combining deep learning with traditional machine learning, and physical model-based data augmentation. We also briefly discuss the latest advances in these methods. Finally, we conclude the survey with a discussion of promising trends in small data challenges in molecular science.'''"
   ]
  },
  {
   "cell_type": "code",
   "execution_count": 3,
   "id": "a5273923",
   "metadata": {},
   "outputs": [
    {
     "data": {
      "text/plain": [
       "1983"
      ]
     },
     "execution_count": 3,
     "metadata": {},
     "output_type": "execute_result"
    }
   ],
   "source": [
    "len(text)"
   ]
  },
  {
   "cell_type": "code",
   "execution_count": 4,
   "id": "416915b5",
   "metadata": {},
   "outputs": [],
   "source": [
    "nlp = spacy.load('en_core_web_sm')"
   ]
  },
  {
   "cell_type": "code",
   "execution_count": 5,
   "id": "e57785c4",
   "metadata": {},
   "outputs": [],
   "source": [
    "doc = nlp(text)"
   ]
  },
  {
   "cell_type": "code",
   "execution_count": 9,
   "id": "99ee1249",
   "metadata": {},
   "outputs": [],
   "source": [
    "tokens = [token.text.lower() for token in doc\n",
    "         if not token.is_punct and\n",
    "         not token.is_stop and\n",
    "         not token == '\\n']"
   ]
  },
  {
   "cell_type": "code",
   "execution_count": 10,
   "id": "567679b2",
   "metadata": {},
   "outputs": [
    {
     "data": {
      "text/plain": [
       "['small',\n",
       " 'data',\n",
       " 'scientific',\n",
       " 'engineering',\n",
       " 'research',\n",
       " 'presence',\n",
       " 'constraints',\n",
       " 'time',\n",
       " 'cost',\n",
       " 'ethics']"
      ]
     },
     "execution_count": 10,
     "metadata": {},
     "output_type": "execute_result"
    }
   ],
   "source": [
    "tokens[:10]"
   ]
  },
  {
   "cell_type": "code",
   "execution_count": 11,
   "id": "7a034010",
   "metadata": {},
   "outputs": [],
   "source": [
    "word_freq = Counter(tokens)"
   ]
  },
  {
   "cell_type": "code",
   "execution_count": 13,
   "id": "91cdd05f",
   "metadata": {
    "scrolled": false
   },
   "outputs": [
    {
     "data": {
      "text/plain": [
       "Counter({'small': 7,\n",
       "         'data': 14,\n",
       "         'scientific': 2,\n",
       "         'engineering': 1,\n",
       "         'research': 1,\n",
       "         'presence': 1,\n",
       "         'constraints': 1,\n",
       "         'time': 1,\n",
       "         'cost': 1,\n",
       "         'ethics': 1,\n",
       "         'privacy': 1,\n",
       "         'security': 1,\n",
       "         'technical': 1,\n",
       "         'limitations': 1,\n",
       "         'acquisition': 1,\n",
       "         'big': 3,\n",
       "         'focus': 1,\n",
       "         'past': 2,\n",
       "         'decade': 2,\n",
       "         'challenges': 4,\n",
       "         'received': 1,\n",
       "         'little': 1,\n",
       "         'attention': 1,\n",
       "         'technically': 1,\n",
       "         'severe': 1,\n",
       "         'machine': 4,\n",
       "         'learning': 9,\n",
       "         'ml': 4,\n",
       "         'deep': 2,\n",
       "         'dl': 4,\n",
       "         'studies': 1,\n",
       "         'overall': 1,\n",
       "         'challenge': 1,\n",
       "         'compounded': 1,\n",
       "         'issues': 1,\n",
       "         'diversity': 1,\n",
       "         'imputation': 1,\n",
       "         'noise': 1,\n",
       "         'imbalance': 1,\n",
       "         'high': 1,\n",
       "         'dimensionality': 1,\n",
       "         'fortunately': 1,\n",
       "         'current': 1,\n",
       "         'era': 1,\n",
       "         'characterized': 1,\n",
       "         'technological': 1,\n",
       "         'breakthroughs': 1,\n",
       "         'artificial': 2,\n",
       "         'intelligence': 1,\n",
       "         'ai': 1,\n",
       "         'enable': 1,\n",
       "         'driven': 1,\n",
       "         'discovery': 1,\n",
       "         'advanced': 2,\n",
       "         'technologies': 1,\n",
       "         'developed': 1,\n",
       "         'inadvertently': 1,\n",
       "         'provided': 1,\n",
       "         'solutions': 2,\n",
       "         'problems': 1,\n",
       "         'result': 1,\n",
       "         'significant': 1,\n",
       "         'progress': 1,\n",
       "         'review': 2,\n",
       "         'summarize': 1,\n",
       "         'analyze': 1,\n",
       "         'emerging': 1,\n",
       "         'potential': 1,\n",
       "         'molecular': 2,\n",
       "         'science': 2,\n",
       "         'including': 2,\n",
       "         'chemical': 1,\n",
       "         'biological': 1,\n",
       "         'sciences': 1,\n",
       "         'basic': 1,\n",
       "         'algorithms': 1,\n",
       "         'linear': 1,\n",
       "         'regression': 2,\n",
       "         'logistic': 1,\n",
       "         'lr': 1,\n",
       "         'k': 1,\n",
       "         'nearest': 1,\n",
       "         'neighbor': 1,\n",
       "         'knn': 1,\n",
       "         'support': 1,\n",
       "         'vector': 1,\n",
       "         'svm': 1,\n",
       "         'kernel': 1,\n",
       "         'kl': 1,\n",
       "         'random': 1,\n",
       "         'forest': 1,\n",
       "         'rf': 1,\n",
       "         'gradient': 1,\n",
       "         'boosting': 1,\n",
       "         'trees': 1,\n",
       "         'gbt': 1,\n",
       "         'techniques': 1,\n",
       "         'neural': 3,\n",
       "         'network': 4,\n",
       "         'ann': 1,\n",
       "         'convolutional': 1,\n",
       "         'cnn': 1,\n",
       "         'u': 1,\n",
       "         'net': 1,\n",
       "         'graph': 2,\n",
       "         'gnn': 1,\n",
       "         'generative': 1,\n",
       "         'adversarial': 1,\n",
       "         'gan': 1,\n",
       "         'long': 1,\n",
       "         'short': 1,\n",
       "         'term': 1,\n",
       "         'memory': 1,\n",
       "         'lstm': 1,\n",
       "         'autoencoder': 1,\n",
       "         'transformer': 1,\n",
       "         'transfer': 1,\n",
       "         'active': 1,\n",
       "         'based': 2,\n",
       "         'semi': 1,\n",
       "         'supervised': 1,\n",
       "         'combining': 1,\n",
       "         'traditional': 1,\n",
       "         'physical': 1,\n",
       "         'model': 1,\n",
       "         'augmentation': 1,\n",
       "         'briefly': 1,\n",
       "         'discuss': 1,\n",
       "         'latest': 1,\n",
       "         'advances': 1,\n",
       "         'methods': 1,\n",
       "         'finally': 1,\n",
       "         'conclude': 1,\n",
       "         'survey': 1,\n",
       "         'discussion': 1,\n",
       "         'promising': 1,\n",
       "         'trends': 1})"
      ]
     },
     "execution_count": 13,
     "metadata": {},
     "output_type": "execute_result"
    }
   ],
   "source": [
    "word_freq"
   ]
  },
  {
   "cell_type": "code",
   "execution_count": 14,
   "id": "2e4d859a",
   "metadata": {},
   "outputs": [],
   "source": [
    "max_freq = max(word_freq.values())"
   ]
  },
  {
   "cell_type": "code",
   "execution_count": 15,
   "id": "5262203a",
   "metadata": {},
   "outputs": [
    {
     "data": {
      "text/plain": [
       "14"
      ]
     },
     "execution_count": 15,
     "metadata": {},
     "output_type": "execute_result"
    }
   ],
   "source": [
    "max_freq"
   ]
  },
  {
   "cell_type": "code",
   "execution_count": 16,
   "id": "716c48fe",
   "metadata": {},
   "outputs": [],
   "source": [
    "for word in word_freq.keys():\n",
    "    word_freq[word] = word_freq[word] / max_freq"
   ]
  },
  {
   "cell_type": "code",
   "execution_count": 17,
   "id": "b1860773",
   "metadata": {
    "scrolled": false
   },
   "outputs": [
    {
     "data": {
      "text/plain": [
       "Counter({'small': 0.5,\n",
       "         'data': 1.0,\n",
       "         'scientific': 0.14285714285714285,\n",
       "         'engineering': 0.07142857142857142,\n",
       "         'research': 0.07142857142857142,\n",
       "         'presence': 0.07142857142857142,\n",
       "         'constraints': 0.07142857142857142,\n",
       "         'time': 0.07142857142857142,\n",
       "         'cost': 0.07142857142857142,\n",
       "         'ethics': 0.07142857142857142,\n",
       "         'privacy': 0.07142857142857142,\n",
       "         'security': 0.07142857142857142,\n",
       "         'technical': 0.07142857142857142,\n",
       "         'limitations': 0.07142857142857142,\n",
       "         'acquisition': 0.07142857142857142,\n",
       "         'big': 0.21428571428571427,\n",
       "         'focus': 0.07142857142857142,\n",
       "         'past': 0.14285714285714285,\n",
       "         'decade': 0.14285714285714285,\n",
       "         'challenges': 0.2857142857142857,\n",
       "         'received': 0.07142857142857142,\n",
       "         'little': 0.07142857142857142,\n",
       "         'attention': 0.07142857142857142,\n",
       "         'technically': 0.07142857142857142,\n",
       "         'severe': 0.07142857142857142,\n",
       "         'machine': 0.2857142857142857,\n",
       "         'learning': 0.6428571428571429,\n",
       "         'ml': 0.2857142857142857,\n",
       "         'deep': 0.14285714285714285,\n",
       "         'dl': 0.2857142857142857,\n",
       "         'studies': 0.07142857142857142,\n",
       "         'overall': 0.07142857142857142,\n",
       "         'challenge': 0.07142857142857142,\n",
       "         'compounded': 0.07142857142857142,\n",
       "         'issues': 0.07142857142857142,\n",
       "         'diversity': 0.07142857142857142,\n",
       "         'imputation': 0.07142857142857142,\n",
       "         'noise': 0.07142857142857142,\n",
       "         'imbalance': 0.07142857142857142,\n",
       "         'high': 0.07142857142857142,\n",
       "         'dimensionality': 0.07142857142857142,\n",
       "         'fortunately': 0.07142857142857142,\n",
       "         'current': 0.07142857142857142,\n",
       "         'era': 0.07142857142857142,\n",
       "         'characterized': 0.07142857142857142,\n",
       "         'technological': 0.07142857142857142,\n",
       "         'breakthroughs': 0.07142857142857142,\n",
       "         'artificial': 0.14285714285714285,\n",
       "         'intelligence': 0.07142857142857142,\n",
       "         'ai': 0.07142857142857142,\n",
       "         'enable': 0.07142857142857142,\n",
       "         'driven': 0.07142857142857142,\n",
       "         'discovery': 0.07142857142857142,\n",
       "         'advanced': 0.14285714285714285,\n",
       "         'technologies': 0.07142857142857142,\n",
       "         'developed': 0.07142857142857142,\n",
       "         'inadvertently': 0.07142857142857142,\n",
       "         'provided': 0.07142857142857142,\n",
       "         'solutions': 0.14285714285714285,\n",
       "         'problems': 0.07142857142857142,\n",
       "         'result': 0.07142857142857142,\n",
       "         'significant': 0.07142857142857142,\n",
       "         'progress': 0.07142857142857142,\n",
       "         'review': 0.14285714285714285,\n",
       "         'summarize': 0.07142857142857142,\n",
       "         'analyze': 0.07142857142857142,\n",
       "         'emerging': 0.07142857142857142,\n",
       "         'potential': 0.07142857142857142,\n",
       "         'molecular': 0.14285714285714285,\n",
       "         'science': 0.14285714285714285,\n",
       "         'including': 0.14285714285714285,\n",
       "         'chemical': 0.07142857142857142,\n",
       "         'biological': 0.07142857142857142,\n",
       "         'sciences': 0.07142857142857142,\n",
       "         'basic': 0.07142857142857142,\n",
       "         'algorithms': 0.07142857142857142,\n",
       "         'linear': 0.07142857142857142,\n",
       "         'regression': 0.14285714285714285,\n",
       "         'logistic': 0.07142857142857142,\n",
       "         'lr': 0.07142857142857142,\n",
       "         'k': 0.07142857142857142,\n",
       "         'nearest': 0.07142857142857142,\n",
       "         'neighbor': 0.07142857142857142,\n",
       "         'knn': 0.07142857142857142,\n",
       "         'support': 0.07142857142857142,\n",
       "         'vector': 0.07142857142857142,\n",
       "         'svm': 0.07142857142857142,\n",
       "         'kernel': 0.07142857142857142,\n",
       "         'kl': 0.07142857142857142,\n",
       "         'random': 0.07142857142857142,\n",
       "         'forest': 0.07142857142857142,\n",
       "         'rf': 0.07142857142857142,\n",
       "         'gradient': 0.07142857142857142,\n",
       "         'boosting': 0.07142857142857142,\n",
       "         'trees': 0.07142857142857142,\n",
       "         'gbt': 0.07142857142857142,\n",
       "         'techniques': 0.07142857142857142,\n",
       "         'neural': 0.21428571428571427,\n",
       "         'network': 0.2857142857142857,\n",
       "         'ann': 0.07142857142857142,\n",
       "         'convolutional': 0.07142857142857142,\n",
       "         'cnn': 0.07142857142857142,\n",
       "         'u': 0.07142857142857142,\n",
       "         'net': 0.07142857142857142,\n",
       "         'graph': 0.14285714285714285,\n",
       "         'gnn': 0.07142857142857142,\n",
       "         'generative': 0.07142857142857142,\n",
       "         'adversarial': 0.07142857142857142,\n",
       "         'gan': 0.07142857142857142,\n",
       "         'long': 0.07142857142857142,\n",
       "         'short': 0.07142857142857142,\n",
       "         'term': 0.07142857142857142,\n",
       "         'memory': 0.07142857142857142,\n",
       "         'lstm': 0.07142857142857142,\n",
       "         'autoencoder': 0.07142857142857142,\n",
       "         'transformer': 0.07142857142857142,\n",
       "         'transfer': 0.07142857142857142,\n",
       "         'active': 0.07142857142857142,\n",
       "         'based': 0.14285714285714285,\n",
       "         'semi': 0.07142857142857142,\n",
       "         'supervised': 0.07142857142857142,\n",
       "         'combining': 0.07142857142857142,\n",
       "         'traditional': 0.07142857142857142,\n",
       "         'physical': 0.07142857142857142,\n",
       "         'model': 0.07142857142857142,\n",
       "         'augmentation': 0.07142857142857142,\n",
       "         'briefly': 0.07142857142857142,\n",
       "         'discuss': 0.07142857142857142,\n",
       "         'latest': 0.07142857142857142,\n",
       "         'advances': 0.07142857142857142,\n",
       "         'methods': 0.07142857142857142,\n",
       "         'finally': 0.07142857142857142,\n",
       "         'conclude': 0.07142857142857142,\n",
       "         'survey': 0.07142857142857142,\n",
       "         'discussion': 0.07142857142857142,\n",
       "         'promising': 0.07142857142857142,\n",
       "         'trends': 0.07142857142857142})"
      ]
     },
     "execution_count": 17,
     "metadata": {},
     "output_type": "execute_result"
    }
   ],
   "source": [
    "word_freq"
   ]
  },
  {
   "cell_type": "code",
   "execution_count": 18,
   "id": "6018eb76",
   "metadata": {},
   "outputs": [],
   "source": [
    "sent_token = [sent.text for sent in doc.sents]"
   ]
  },
  {
   "cell_type": "code",
   "execution_count": 19,
   "id": "867f6747",
   "metadata": {},
   "outputs": [
    {
     "data": {
      "text/plain": [
       "['Small data are often used in scientific and engineering research due to the presence of various constraints, such as time, cost, ethics, privacy, security, and technical limitations in data acquisition.',\n",
       " 'However, big data have been the focus for the past decade, small data and their challenges have received little attention, even though they are technically more severe in machine learning (ML) and deep learning (DL) studies.',\n",
       " 'Overall, the small data challenge is often compounded by issues, such as data diversity, imputation, noise, imbalance, and high-dimensionality.',\n",
       " 'Fortunately, the current big data era is characterized by technological breakthroughs in ML, DL, and artificial intelligence (AI), which enable data-driven scientific discovery, and many advanced ML and DL technologies developed for big data have inadvertently provided solutions for small data problems.',\n",
       " 'As a result, significant progress has been made in ML and DL for small data challenges in the past decade.',\n",
       " 'In this review, we summarize and analyze several emerging potential solutions to small data challenges in molecular science, including chemical and biological sciences.',\n",
       " 'We review both basic machine learning algorithms, such as linear regression, logistic regression (LR), k-nearest neighbor (KNN), support vector machine (SVM), kernel learning (KL), random forest (RF), and gradient boosting trees (GBT), and more advanced techniques, including artificial neural network (ANN), convolutional neural network (CNN), U-Net, graph neural network (GNN), Generative Adversarial Network (GAN), long short-term memory (LSTM), autoencoder, transformer, transfer learning, active learning, graph-based semi-supervised learning, combining deep learning with traditional machine learning, and physical model-based data augmentation.',\n",
       " 'We also briefly discuss the latest advances in these methods.',\n",
       " 'Finally, we conclude the survey with a discussion of promising trends in small data challenges in molecular science.']"
      ]
     },
     "execution_count": 19,
     "metadata": {},
     "output_type": "execute_result"
    }
   ],
   "source": [
    "sent_token"
   ]
  },
  {
   "cell_type": "code",
   "execution_count": 23,
   "id": "c557ea24",
   "metadata": {},
   "outputs": [],
   "source": [
    "sent_score = {}\n",
    "for sent in sent_token:\n",
    "    for word in sent.split():\n",
    "        if word in word_freq.keys():\n",
    "            if sent not in sent_score.keys():\n",
    "                sent_score[sent] = word_freq[word]\n",
    "            else:\n",
    "                sent_score[sent] += word_freq[word]"
   ]
  },
  {
   "cell_type": "code",
   "execution_count": 24,
   "id": "9cec9096",
   "metadata": {},
   "outputs": [
    {
     "data": {
      "text/plain": [
       "{'Small data are often used in scientific and engineering research due to the presence of various constraints, such as time, cost, ethics, privacy, security, and technical limitations in data acquisition.': 2.5,\n",
       " 'However, big data have been the focus for the past decade, small data and their challenges have received little attention, even though they are technically more severe in machine learning (ML) and deep learning (DL) studies.': 5.214285714285715,\n",
       " 'Overall, the small data challenge is often compounded by issues, such as data diversity, imputation, noise, imbalance, and high-dimensionality.': 2.642857142857143,\n",
       " 'Fortunately, the current big data era is characterized by technological breakthroughs in ML, DL, and artificial intelligence (AI), which enable data-driven scientific discovery, and many advanced ML and DL technologies developed for big data have inadvertently provided solutions for small data problems.': 5.2857142857142865,\n",
       " 'As a result, significant progress has been made in ML and DL for small data challenges in the past decade.': 2.071428571428571,\n",
       " 'In this review, we summarize and analyze several emerging potential solutions to small data challenges in molecular science, including chemical and biological sciences.': 2.6428571428571432,\n",
       " 'We review both basic machine learning algorithms, such as linear regression, logistic regression (LR), k-nearest neighbor (KNN), support vector machine (SVM), kernel learning (KL), random forest (RF), and gradient boosting trees (GBT), and more advanced techniques, including artificial neural network (ANN), convolutional neural network (CNN), U-Net, graph neural network (GNN), Generative Adversarial Network (GAN), long short-term memory (LSTM), autoencoder, transformer, transfer learning, active learning, graph-based semi-supervised learning, combining deep learning with traditional machine learning, and physical model-based data augmentation.': 7.714285714285714,\n",
       " 'We also briefly discuss the latest advances in these methods.': 0.2857142857142857,\n",
       " 'Finally, we conclude the survey with a discussion of promising trends in small data challenges in molecular science.': 2.2857142857142856}"
      ]
     },
     "execution_count": 24,
     "metadata": {},
     "output_type": "execute_result"
    }
   ],
   "source": [
    "sent_score"
   ]
  },
  {
   "cell_type": "code",
   "execution_count": 27,
   "id": "777991fb",
   "metadata": {},
   "outputs": [],
   "source": [
    "num_sentences = 3\n",
    "n = nlargest(num_sentences, sent_score, key = sent_score.get)"
   ]
  },
  {
   "cell_type": "code",
   "execution_count": 28,
   "id": "5136a84a",
   "metadata": {},
   "outputs": [
    {
     "data": {
      "text/plain": [
       "['We review both basic machine learning algorithms, such as linear regression, logistic regression (LR), k-nearest neighbor (KNN), support vector machine (SVM), kernel learning (KL), random forest (RF), and gradient boosting trees (GBT), and more advanced techniques, including artificial neural network (ANN), convolutional neural network (CNN), U-Net, graph neural network (GNN), Generative Adversarial Network (GAN), long short-term memory (LSTM), autoencoder, transformer, transfer learning, active learning, graph-based semi-supervised learning, combining deep learning with traditional machine learning, and physical model-based data augmentation.',\n",
       " 'Fortunately, the current big data era is characterized by technological breakthroughs in ML, DL, and artificial intelligence (AI), which enable data-driven scientific discovery, and many advanced ML and DL technologies developed for big data have inadvertently provided solutions for small data problems.',\n",
       " 'However, big data have been the focus for the past decade, small data and their challenges have received little attention, even though they are technically more severe in machine learning (ML) and deep learning (DL) studies.']"
      ]
     },
     "execution_count": 28,
     "metadata": {},
     "output_type": "execute_result"
    }
   ],
   "source": [
    "n"
   ]
  },
  {
   "cell_type": "code",
   "execution_count": 29,
   "id": "d08d25fe",
   "metadata": {},
   "outputs": [],
   "source": [
    "ordered_sents = []\n",
    "for sent in sent_token:\n",
    "    for i in n:\n",
    "        if sent == i:\n",
    "            ordered_sents.append(sent)"
   ]
  },
  {
   "cell_type": "code",
   "execution_count": 30,
   "id": "35445d08",
   "metadata": {},
   "outputs": [
    {
     "data": {
      "text/plain": [
       "['However, big data have been the focus for the past decade, small data and their challenges have received little attention, even though they are technically more severe in machine learning (ML) and deep learning (DL) studies.',\n",
       " 'Fortunately, the current big data era is characterized by technological breakthroughs in ML, DL, and artificial intelligence (AI), which enable data-driven scientific discovery, and many advanced ML and DL technologies developed for big data have inadvertently provided solutions for small data problems.',\n",
       " 'We review both basic machine learning algorithms, such as linear regression, logistic regression (LR), k-nearest neighbor (KNN), support vector machine (SVM), kernel learning (KL), random forest (RF), and gradient boosting trees (GBT), and more advanced techniques, including artificial neural network (ANN), convolutional neural network (CNN), U-Net, graph neural network (GNN), Generative Adversarial Network (GAN), long short-term memory (LSTM), autoencoder, transformer, transfer learning, active learning, graph-based semi-supervised learning, combining deep learning with traditional machine learning, and physical model-based data augmentation.']"
      ]
     },
     "execution_count": 30,
     "metadata": {},
     "output_type": "execute_result"
    }
   ],
   "source": [
    "ordered_sents"
   ]
  },
  {
   "cell_type": "code",
   "execution_count": 31,
   "id": "f6800deb",
   "metadata": {},
   "outputs": [],
   "source": [
    "or_sen = ' '.join(ordered_sents)"
   ]
  },
  {
   "cell_type": "code",
   "execution_count": 32,
   "id": "f860a314",
   "metadata": {},
   "outputs": [
    {
     "data": {
      "text/plain": [
       "'However, big data have been the focus for the past decade, small data and their challenges have received little attention, even though they are technically more severe in machine learning (ML) and deep learning (DL) studies. Fortunately, the current big data era is characterized by technological breakthroughs in ML, DL, and artificial intelligence (AI), which enable data-driven scientific discovery, and many advanced ML and DL technologies developed for big data have inadvertently provided solutions for small data problems. We review both basic machine learning algorithms, such as linear regression, logistic regression (LR), k-nearest neighbor (KNN), support vector machine (SVM), kernel learning (KL), random forest (RF), and gradient boosting trees (GBT), and more advanced techniques, including artificial neural network (ANN), convolutional neural network (CNN), U-Net, graph neural network (GNN), Generative Adversarial Network (GAN), long short-term memory (LSTM), autoencoder, transformer, transfer learning, active learning, graph-based semi-supervised learning, combining deep learning with traditional machine learning, and physical model-based data augmentation.'"
      ]
     },
     "execution_count": 32,
     "metadata": {},
     "output_type": "execute_result"
    }
   ],
   "source": [
    "or_sen"
   ]
  },
  {
   "cell_type": "markdown",
   "id": "a58cd0dd",
   "metadata": {},
   "source": [
    "# Abstractive Summarization"
   ]
  },
  {
   "cell_type": "code",
   "execution_count": 35,
   "id": "4acbdbcb",
   "metadata": {},
   "outputs": [
    {
     "name": "stderr",
     "output_type": "stream",
     "text": [
      "C:\\Users\\power\\AppData\\Local\\Programs\\Python\\Python310\\lib\\site-packages\\transformers\\tokenization_utils_base.py:1601: FutureWarning: `clean_up_tokenization_spaces` was not set. It will be set to `True` by default. This behavior will be depracted in transformers v4.45, and will be then set to `False` by default. For more details check this issue: https://github.com/huggingface/transformers/issues/31884\n",
      "  warnings.warn(\n"
     ]
    }
   ],
   "source": [
    "summarizer = pipeline('summarization', model = 't5-base', tokenizer = 't5-base', framework = 'pt')"
   ]
  },
  {
   "cell_type": "code",
   "execution_count": 36,
   "id": "dc7b1ca6",
   "metadata": {},
   "outputs": [],
   "source": [
    "summary = summarizer(text, max_length = 100, min_length = 10, do_sample = False)"
   ]
  },
  {
   "cell_type": "code",
   "execution_count": 37,
   "id": "61cb5259",
   "metadata": {},
   "outputs": [
    {
     "data": {
      "text/plain": [
       "[{'summary_text': 'the small data challenge is often compounded by issues such as data diversity, imputation, noise, imbalance, and high-dimensionality . the current big data era is characterized by technological breakthroughs in ML, DL, and artificial intelligence (AI)'}]"
      ]
     },
     "execution_count": 37,
     "metadata": {},
     "output_type": "execute_result"
    }
   ],
   "source": [
    "summary"
   ]
  },
  {
   "cell_type": "code",
   "execution_count": 39,
   "id": "9e311fda",
   "metadata": {},
   "outputs": [
    {
     "data": {
      "text/plain": [
       "'the small data challenge is often compounded by issues such as data diversity, imputation, noise, imbalance, and high-dimensionality . the current big data era is characterized by technological breakthroughs in ML, DL, and artificial intelligence (AI)'"
      ]
     },
     "execution_count": 39,
     "metadata": {},
     "output_type": "execute_result"
    }
   ],
   "source": [
    "summary[0]['summary_text']"
   ]
  }
 ],
 "metadata": {
  "kernelspec": {
   "display_name": "Python 3 (ipykernel)",
   "language": "python",
   "name": "python3"
  },
  "language_info": {
   "codemirror_mode": {
    "name": "ipython",
    "version": 3
   },
   "file_extension": ".py",
   "mimetype": "text/x-python",
   "name": "python",
   "nbconvert_exporter": "python",
   "pygments_lexer": "ipython3",
   "version": "3.10.5"
  }
 },
 "nbformat": 4,
 "nbformat_minor": 5
}
